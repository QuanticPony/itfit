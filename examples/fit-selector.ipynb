{
 "cells": [
  {
   "cell_type": "code",
   "execution_count": null,
   "metadata": {},
   "outputs": [],
   "source": [
    "%matplotlib qt5\n",
    "import matplotlib.pyplot as plt\n",
    "import numpy as np\n",
    "import itfit\n",
    "from itfit.fit_functions import Gaussian, Line\n",
    "\n",
    "def gauss(x, A, x0, sigma):\n",
    "    return A * np.exp(-(x - x0) ** 2 / (2 * sigma ** 2))\n",
    "\n",
    "def dataFunction(x, m, n, A, x0, sigma):\n",
    "    return m*x + n + gauss(x, A ,x0, sigma)\n",
    "\n",
    "noise = np.random.normal(size=200)\n",
    "\n",
    "xdata = np.arange(200)\n",
    "ydata = dataFunction(xdata, -0.04, 5, np.random.random()\n",
    "                     * 30, np.random.random()*200, 15) + noise\n",
    "\n",
    "\n",
    "\n",
    "fitter = itfit.Fitter(xdata, ydata)\n",
    "function_builder = itfit.FunctionBuilder(fitter)\n",
    "\n",
    "function_builder.define(Gaussian + Line)\n",
    "\n",
    "fitter()\n",
    "fitter.add_custom_fit_function(function_builder)\n"
   ]
  },
  {
   "cell_type": "code",
   "execution_count": null,
   "metadata": {},
   "outputs": [],
   "source": [
    "plot_builder = fitter.get_plot_builder()"
   ]
  },
  {
   "cell_type": "code",
   "execution_count": null,
   "metadata": {},
   "outputs": [],
   "source": [
    "plot_builder.plot_data().with_fit().show_inline()"
   ]
  },
  {
   "cell_type": "code",
   "execution_count": null,
   "metadata": {},
   "outputs": [],
   "source": [
    "plot_builder.title(\"Example\")"
   ]
  },
  {
   "cell_type": "code",
   "execution_count": null,
   "metadata": {},
   "outputs": [],
   "source": [
    "plot_builder.fig.show()"
   ]
  },
  {
   "cell_type": "code",
   "execution_count": null,
   "metadata": {},
   "outputs": [],
   "source": [
    "plt.show()"
   ]
  }
 ],
 "metadata": {
  "kernelspec": {
   "display_name": "phaseportrait",
   "language": "python",
   "name": "python3"
  },
  "language_info": {
   "codemirror_mode": {
    "name": "ipython",
    "version": 3
   },
   "file_extension": ".py",
   "mimetype": "text/x-python",
   "name": "python",
   "nbconvert_exporter": "python",
   "pygments_lexer": "ipython3",
   "version": "3.9.10 | packaged by conda-forge | (main, Feb  1 2022, 21:22:07) [MSC v.1929 64 bit (AMD64)]"
  },
  "orig_nbformat": 4,
  "vscode": {
   "interpreter": {
    "hash": "3bb9538ac7b7d94ac197e78a889597704cf6a6380c3788800459943b237f4644"
   }
  }
 },
 "nbformat": 4,
 "nbformat_minor": 2
}
