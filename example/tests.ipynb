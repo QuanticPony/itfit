{
 "cells": [
  {
   "attachments": {},
   "cell_type": "markdown",
   "metadata": {},
   "source": [
    "Copyright 2023 Unai Lería Fortea & Pablo Vizcaíno García\n",
    "\n",
    "Licensed under the Apache License, Version 2.0 (the \"License\");\n",
    "you may not use this file except in compliance with the License.\n",
    "You may obtain a copy of the License at\n",
    "\n",
    "http://www.apache.org/licenses/LICENSE-2.0\n",
    "\n",
    "Unless required by applicable law or agreed to in writing, software\n",
    "distributed under the License is distributed on an \"AS IS\" BASIS,\n",
    "WITHOUT WARRANTIES OR CONDITIONS OF ANY KIND, either express or implied.\n",
    "See the License for the specific language governing permissions and\n",
    "limitations under the License.\n"
   ]
  },
  {
   "cell_type": "code",
   "execution_count": 1,
   "metadata": {},
   "outputs": [
    {
     "name": "stderr",
     "output_type": "stream",
     "text": [
      "C:\\Computation\\interactive_fitter\\itfit\\fitter_app.py:25: UserWarning: Treat the new Tool classes introduced in v1.5 as experimental for now; the API and rcParam may change in future versions.\n",
      "  plt.rcParams['toolbar'] = 'toolmanager'\n"
     ]
    }
   ],
   "source": [
    "%matplotlib qt5\n",
    "import matplotlib as mpl\n",
    "import matplotlib.pyplot as plt\n",
    "import numpy as np\n",
    "\n",
    "import itfit\n",
    "from itfit import utils\n",
    "from tests import dataFunction, gauss\n",
    "\n",
    "import pylustrator"
   ]
  },
  {
   "cell_type": "code",
   "execution_count": 2,
   "metadata": {},
   "outputs": [],
   "source": [
    "\n",
    "noise =  np.random.normal(size=200)\n",
    "\n",
    "xdata = np.arange(200)\n",
    "ydata = dataFunction(xdata, -0.04, 5, 20, 120,15) + noise"
   ]
  },
  {
   "cell_type": "code",
   "execution_count": 4,
   "metadata": {},
   "outputs": [],
   "source": [
    "fitter_app = itfit.Fitter(xdata, ydata)\n",
    "\n",
    "\n",
    "# fitter_app.add_filter(lambda x,y : x<2)\n",
    "\n",
    "fitter_app()\n",
    "\n",
    "\n"
   ]
  },
  {
   "cell_type": "code",
   "execution_count": 5,
   "metadata": {},
   "outputs": [
    {
     "ename": "AttributeError",
     "evalue": "'Fitter' object has no attribute 'plot'",
     "output_type": "error",
     "traceback": [
      "\u001b[1;31m---------------------------------------------------------------------------\u001b[0m",
      "\u001b[1;31mAttributeError\u001b[0m                            Traceback (most recent call last)",
      "\u001b[1;32mc:\\Computation\\interactive_fitter\\example\\tests.ipynb Cell 4\u001b[0m in \u001b[0;36m<module>\u001b[1;34m\u001b[0m\n\u001b[1;32m----> <a href='vscode-notebook-cell:/c%3A/Computation/interactive_fitter/example/tests.ipynb#W3sZmlsZQ%3D%3D?line=0'>1</a>\u001b[0m fig, ax \u001b[39m=\u001b[39m fitter_app\u001b[39m.\u001b[39;49mplot()\n\u001b[0;32m      <a href='vscode-notebook-cell:/c%3A/Computation/interactive_fitter/example/tests.ipynb#W3sZmlsZQ%3D%3D?line=1'>2</a>\u001b[0m fit \u001b[39m=\u001b[39m fitter_app\u001b[39m.\u001b[39mget_fit()\n",
      "\u001b[1;31mAttributeError\u001b[0m: 'Fitter' object has no attribute 'plot'"
     ]
    }
   ],
   "source": [
    "fig, ax = fitter_app.plot()\n",
    "fit = fitter_app.get_fit()\n"
   ]
  },
  {
   "cell_type": "code",
   "execution_count": 6,
   "metadata": {},
   "outputs": [
    {
     "name": "stdout",
     "output_type": "stream",
     "text": [
      "[-1.15883026e-03  2.14649902e-01 -1.28404662e+00]\n",
      "[1.18568208e-04 2.43764816e-02 1.04992328e+00]\n",
      "[ 19.56584927 118.50505961  15.61028046]\n",
      "[0.61577466 0.5672663  0.5672663 ]\n",
      "[  0.57663081 -47.88973839]\n",
      "[0.02324362 2.34814387]\n"
     ]
    }
   ],
   "source": [
    "for fit in fitter_app.fits.values():  \n",
    "        fig, ax = plt.subplots()\n",
    "        ax.plot(xdata, ydata)\n",
    "        fit_line, = ax.plot(fit.get_xdata(), fit.get_fit_ydata(), '--', c='black')\n",
    "        \n",
    "        print(fit.get_parameters())\n",
    "        print(fit.get_parameters_errors())\n",
    "\n",
    "        ax.grid()"
   ]
  },
  {
   "cell_type": "code",
   "execution_count": null,
   "metadata": {},
   "outputs": [],
   "source": [
    "pylustrator.start()\n",
    "fit_gauss, fit_linear = fitter_app.fits.values()\n",
    "plt.plot(xdata, ydata)\n",
    "plt.plot(fit_gauss.get_fit_xdata(), fit_gauss.get_fit_ydata())\n",
    "plt.plot(fit_linear.get_fit_xdata(), fit_linear.get_fit_ydata(), label='Linear_fit')\n",
    "plt.show()"
   ]
  }
 ],
 "metadata": {
  "kernelspec": {
   "display_name": "phaseportrait",
   "language": "python",
   "name": "python3"
  },
  "language_info": {
   "codemirror_mode": {
    "name": "ipython",
    "version": 3
   },
   "file_extension": ".py",
   "mimetype": "text/x-python",
   "name": "python",
   "nbconvert_exporter": "python",
   "pygments_lexer": "ipython3",
   "version": "3.9.10 | packaged by conda-forge | (main, Feb  1 2022, 21:22:07) [MSC v.1929 64 bit (AMD64)]"
  },
  "orig_nbformat": 4,
  "vscode": {
   "interpreter": {
    "hash": "3bb9538ac7b7d94ac197e78a889597704cf6a6380c3788800459943b237f4644"
   }
  }
 },
 "nbformat": 4,
 "nbformat_minor": 2
}
